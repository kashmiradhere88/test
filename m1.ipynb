{
  "nbformat": 4,
  "nbformat_minor": 0,
  "metadata": {
    "colab": {
      "name": "m1.ipynb",
      "provenance": [],
      "authorship_tag": "ABX9TyPJKyMTm0RsJotIy2k5lfV1",
      "include_colab_link": true
    },
    "kernelspec": {
      "name": "python3",
      "display_name": "Python 3"
    },
    "language_info": {
      "name": "python"
    }
  },
  "cells": [
    {
      "cell_type": "markdown",
      "metadata": {
        "id": "view-in-github",
        "colab_type": "text"
      },
      "source": [
        "<a href=\"https://colab.research.google.com/github/kashmiradhere88/test/blob/main/m1.ipynb\" target=\"_parent\"><img src=\"https://colab.research.google.com/assets/colab-badge.svg\" alt=\"Open In Colab\"/></a>"
      ]
    },
    {
      "cell_type": "markdown",
      "source": [
        "# Linear regression\n",
        "**output**\n",
        "accuracy\n",
        "prediction\n",
        "b0\n",
        "b1\n",
        "y\n",
        "risk score"
      ],
      "metadata": {
        "id": "F5Qnt4RnIyPs"
      }
    },
    {
      "cell_type": "code",
      "source": [
        "import matplotlib.pyplot as pt\n",
        "import pandas as pd\n",
        "\n",
        "dataset=pd.read_csv(\"hours.csv\")\n",
        "x=dataset.iloc[:,:-1]\n",
        "y=dataset.iloc[:,1]"
      ],
      "metadata": {
        "id": "MJY18tZHJA-k"
      },
      "execution_count": 4,
      "outputs": []
    },
    {
      "cell_type": "code",
      "source": [
        "from sklearn.linear_model import LinearRegression\n",
        "regressor=LinearRegression()\n",
        "regressor.fit(x,y)\n",
        "print(\"accuracy= \",regressor.score(x,y)*100)\n",
        "print(\"prediction= \",regressor.predict([[8]]))\n",
        "pt.plot(x,y,\"o\")\n",
        "pt.show()"
      ],
      "metadata": {
        "colab": {
          "base_uri": "https://localhost:8080/",
          "height": 353
        },
        "id": "xxc4nmS_JoWm",
        "outputId": "1a741c75-f8ac-4934-918c-6da236cd26f0"
      },
      "execution_count": 14,
      "outputs": [
        {
          "output_type": "stream",
          "name": "stdout",
          "text": [
            "accuracy=  43.709481451010035\n",
            "prediction=  [49.28781684]\n"
          ]
        },
        {
          "output_type": "stream",
          "name": "stderr",
          "text": [
            "/usr/local/lib/python3.7/dist-packages/sklearn/base.py:451: UserWarning: X does not have valid feature names, but LinearRegression was fitted with feature names\n",
            "  \"X does not have valid feature names, but\"\n"
          ]
        },
        {
          "output_type": "display_data",
          "data": {
            "text/plain": [
              "<Figure size 432x288 with 1 Axes>"
            ],
            "image/png": "[encoded data removed]"
          },
          "metadata": {
            "needs_background": "light"
          }
        }
      ]
    },
    {
      "cell_type": "code",
      "source": [
        "hrs=int(input(\"enter no. hours\"))\n",
        "eq=regressor.intercept_+regressor.coef_*hrs\n",
        "print(\"b0= \",regressor.intercept_)\n",
        "print(\"b1\",regressor.coef_)\n",
        "print(\"y= b0 + b1 * hrs =\",eq)"
      ],
      "metadata": {
        "colab": {
          "base_uri": "https://localhost:8080/"
        },
        "id": "9dIUbaFpKaf5",
        "outputId": "4351a40e-f807-461d-cd07-4508064747ed"
      },
      "execution_count": 13,
      "outputs": [
        {
          "output_type": "stream",
          "name": "stdout",
          "text": [
            "enter no. hours10\n",
            "b0=  12.584627964022907\n",
            "b1 [4.58789861]\n",
            "y= b0 + b1 * hrs = [58.46361406]\n"
          ]
        }
      ]
    },
    {
      "cell_type": "code",
      "source": [
        "pt.plot(x,y,\"o\")\n",
        "pt.plot(x,regressor.predict(x))\n",
        "pt.show()"
      ],
      "metadata": {
        "colab": {
          "base_uri": "https://localhost:8080/",
          "height": 265
        },
        "id": "79OsvTkHLTq9",
        "outputId": "f24120cb-9941-4df9-aa8a-781789f43f70"
      },
      "execution_count": 15,
      "outputs": [
        {
          "output_type": "display_data",
          "data": {
            "text/plain": [
              "<Figure size 432x288 with 1 Axes>"
            ],
            "image/png": "[encoded data removed]"
          },
          "metadata": {
            "needs_background": "light"
          }
        }
      ]
    }
  ]
}