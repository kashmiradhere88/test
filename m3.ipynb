{
  "nbformat": 4,
  "nbformat_minor": 0,
  "metadata": {
    "colab": {
      "name": "m3.ipynb",
      "provenance": [],
      "authorship_tag": "ABX9TyNsk9zGoa64yod5u5EHJQpJ",
      "include_colab_link": true
    },
    "kernelspec": {
      "name": "python3",
      "display_name": "Python 3"
    },
    "language_info": {
      "name": "python"
    }
  },
  "cells": [
    {
      "cell_type": "markdown",
      "metadata": {
        "id": "view-in-github",
        "colab_type": "text"
      },
      "source": [
        "<a href=\"https://colab.research.google.com/github/kashmiradhere88/test/blob/main/m3.ipynb\" target=\"_parent\"><img src=\"https://colab.research.google.com/assets/colab-badge.svg\" alt=\"Open In Colab\"/></a>"
      ]
    },
    {
      "cell_type": "markdown",
      "source": [
        "#KNN\n",
        "**output -**\n",
        "train_data ,test data,neighbours,prediction"
      ],
      "metadata": {
        "id": "HZcQMpxBSD4e"
      }
    },
    {
      "cell_type": "code",
      "execution_count": 9,
      "metadata": {
        "id": "ZM-t2YUJFnzw"
      },
      "outputs": [],
      "source": [
        "from numpy import sqrt\n",
        "\n",
        "def euc_dist(row1,row2):\n",
        "  distance=0.0\n",
        "  for i in range(len(row1)-1): ##-1\n",
        "    distance+=(row1[i]-row2[i])**2\n",
        "  return sqrt(distance)"
      ]
    },
    {
      "cell_type": "code",
      "source": [
        "def get_neigh(train,test_row,num_neigh):\n",
        "  distances=list()\n",
        "  for train_row in train:\n",
        "    dist=euc_dist(train_row,test_row)\n",
        "    distances.append((train_row,dist)) ##()\n",
        "  distances.sort(key=lambda tup: tup[1]) ###\n",
        "  neighbours=list()\n",
        "  for i in range(num_neigh):\n",
        "    neighbours.append(distances[i][0])\n",
        "  return neighbours"
      ],
      "metadata": {
        "id": "g89Is_FQSDkE"
      },
      "execution_count": 11,
      "outputs": []
    },
    {
      "cell_type": "code",
      "source": [
        "train_data = [[2, 4, \"Orange\"], [4, 4, \"Blue\"], [4, 6, \"Orange\"], [4, 2, \"Orange\"], [6, 2, \"Blue\"],[6, 4, \"Orange\"]]\n",
        "print(\"train data =\",train_data)\n",
        "test_data=[[6,6]]\n",
        "for item in test_data:\n",
        "  print(\"test data =\",item)\n",
        "  neighbours=get_neigh(train_data,item,3) ##!test_data\n",
        "print(\"neghbours =\",neighbours)\n",
        "output_value=[row[-1] for row in neighbours]  ###\n",
        "prediction=max(set(output_value),key=output_value.count) ##\n",
        "print(\"prediction: \",prediction)"
      ],
      "metadata": {
        "colab": {
          "base_uri": "https://localhost:8080/"
        },
        "id": "zcMsfeXITGBc",
        "outputId": "fcde8610-d334-4654-8d7c-7aa05e1887e7"
      },
      "execution_count": 21,
      "outputs": [
        {
          "output_type": "stream",
          "name": "stdout",
          "text": [
            "train data = [[2, 4, 'Orange'], [4, 4, 'Blue'], [4, 6, 'Orange'], [4, 2, 'Orange'], [6, 2, 'Blue'], [6, 4, 'Orange']]\n",
            "test data = [6, 6]\n",
            "neghbours = [[4, 6, 'Orange'], [6, 4, 'Orange'], [4, 4, 'Blue']]\n",
            "prediction:  Orange\n"
          ]
        }
      ]
    }
  ]
}