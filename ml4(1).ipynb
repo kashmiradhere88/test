{
  "nbformat": 4,
  "nbformat_minor": 0,
  "metadata": {
    "colab": {
      "name": "ml4(1).ipynb",
      "provenance": [],
      "collapsed_sections": []
    },
    "kernelspec": {
      "name": "python3",
      "display_name": "Python 3"
    },
    "language_info": {
      "name": "python"
    }
  },
  "cells": [
    {
      "cell_type": "code",
      "execution_count": null,
      "metadata": {
        "id": "-fOsQtaXIsKQ"
      },
      "outputs": [],
      "source": [
        "from copy import deepcopy\n",
        "import numpy as np\n",
        "import pandas as pd\n",
        "from matplotlib import pyplot as plt\n",
        "import math\n",
        "df = pd.read_csv('dataset.csv')\n",
        "df"
      ]
    },
    {
      "cell_type": "code",
      "source": [
        "  X = np.array(df)\n",
        "c_x = np.array([0.1,0.3])\n",
        "c_y = np.array([0.6,0.2])\n",
        "\n",
        "centroids = np.array(list(zip(c_x,c_y)))\n",
        "centroids"
      ],
      "metadata": {
        "id": "ifMRBT5qJddD"
      },
      "execution_count": null,
      "outputs": []
    },
    {
      "cell_type": "code",
      "source": [
        "class K_Means:\n",
        "    def __init__(self, k=2, tol=0.001, max_iter=300):\n",
        "        self.k = k\n",
        "        self.tol = tol\n",
        "        self.max_iter = max_iter\n",
        "\n",
        "    def fit(self,data,centroids):\n",
        "\n",
        "        self.centroids = {}\n",
        "\n",
        "        for i in range(self.k):\n",
        "            self.centroids[i] = centroids[i]\n",
        "\n",
        "        for i in range(self.max_iter):\n",
        "            self.classifications = {}\n",
        "\n",
        "            for i in range(self.k):\n",
        "                self.classifications[i] = []\n",
        "\n",
        "            for featureset in data:\n",
        "                distances = [np.linalg.norm(featureset-self.centroids[centroid]) for centroid in self.centroids]\n",
        "                classification = distances.index(min(distances))\n",
        "                self.classifications[classification].append(featureset)\n",
        "\n",
        "            prev_centroids = dict(self.centroids)\n",
        "\n",
        "            for classification in self.classifications:\n",
        "                self.centroids[classification] = np.average(self.classifications[classification],axis=0)\n",
        "\n",
        "            optimized = True\n",
        "\n",
        "            for c in self.centroids:\n",
        "                original_centroid = prev_centroids[c]\n",
        "                current_centroid = self.centroids[c]\n",
        "                if np.sum((current_centroid-original_centroid)/original_centroid*100.0) > self.tol:\n",
        "                    print(np.sum((current_centroid-original_centroid)/original_centroid*100.0))\n",
        "                    optimized = False\n",
        "\n",
        "            if optimized:\n",
        "                break\n",
        "\n",
        "    def predict(self,data):\n",
        "        distances = [np.linalg.norm(data-self.centroids[centroid]) for centroid in self.centroids]\n",
        "        classification = distances.index(min(distances))\n",
        "        return classification\n"
      ],
      "metadata": {
        "id": "uOFGD2WgJoJW"
      },
      "execution_count": 1,
      "outputs": []
    },
    {
      "cell_type": "code",
      "source": [
        "model = K_Means()\n",
        "model.fit(X, centroids)"
      ],
      "metadata": {
        "id": "LZXasVVuJrN2"
      },
      "execution_count": null,
      "outputs": []
    },
    {
      "cell_type": "markdown",
      "source": [
        "initial data *points*"
      ],
      "metadata": {
        "id": "ZF_WKbVEJuZR"
      }
    },
    {
      "cell_type": "code",
      "source": [
        "## Data Points\n",
        "plt.figure()\n",
        "plt.scatter(X[:,0],X[:,1],alpha=0.3)\n",
        "plt.show()"
      ],
      "metadata": {
        "colab": {
          "base_uri": "https://localhost:8080/",
          "height": 265
        },
        "id": "9Z0MBJrnJw9L",
        "outputId": "bbd059f9-741b-4cc4-a5e0-4c43307f1507"
      },
      "execution_count": null,
      "outputs": [
        {
          "output_type": "display_data",
          "data": {
            "text/plain": [
              "<Figure size 432x288 with 1 Axes>"
            ],
            "image/png": "[encoded data removed]"
          },
          "metadata": {
            "needs_background": "light"
          }
        }
      ]
    },
    {
      "cell_type": "markdown",
      "source": [
        "Data points with two clusters centroids\n",
        "\n",
        "\n",
        "> Indented block\n",
        "\n"
      ],
      "metadata": {
        "id": "VOATX2v1J059"
      }
    },
    {
      "cell_type": "code",
      "source": [
        "plt.figure()\n",
        "plt.scatter(X[:,0],X[:,1],alpha=0.3)\n",
        "plt.scatter(c_x,c_y, marker='o', c='black', s=150)"
      ],
      "metadata": {
        "colab": {
          "base_uri": "https://localhost:8080/",
          "height": 282
        },
        "id": "MrUp6B_eJ2Wg",
        "outputId": "21cd6c65-b5de-446f-b551-e8eb272202e5"
      },
      "execution_count": null,
      "outputs": [
        {
          "output_type": "execute_result",
          "data": {
            "text/plain": [
              "<matplotlib.collections.PathCollection at 0x7f476a048410>"
            ]
          },
          "metadata": {},
          "execution_count": 14
        },
        {
          "output_type": "display_data",
          "data": {
            "text/plain": [
              "<Figure size 432x288 with 1 Axes>"
            ],
            "image/png": "[encoded data removed]"
          },
          "metadata": {
            "needs_background": "light"
          }
        }
      ]
    },
    {
      "cell_type": "markdown",
      "source": [
        "\n",
        "\n",
        "```\n",
        "# This is formatted as code\n",
        "```\n",
        "\n",
        "Result after KMeans Clustering\n"
      ],
      "metadata": {
        "id": "pleOh2efJ6er"
      }
    },
    {
      "cell_type": "code",
      "source": [
        "colors = ['r','b']\n",
        "\n",
        "for centroid in model.centroids:\n",
        "    plt.scatter(model.centroids[centroid][0], model.centroids[centroid][1],\n",
        "                marker=\"o\", color=\"k\", s=150, linewidths=5)\n",
        "\n",
        "for classification in model.classifications:\n",
        "    color = colors[classification]\n",
        "    for featureset in model.classifications[classification]:\n",
        "        plt.scatter(featureset[0], featureset[1], marker=\"x\", color=color, s=150, linewidths=5)\n",
        "\n",
        "plt.show()"
      ],
      "metadata": {
        "colab": {
          "base_uri": "https://localhost:8080/",
          "height": 265
        },
        "id": "dR30e0uAJ8IA",
        "outputId": "74b2821c-367d-47f0-d248-05acb34c0876"
      },
      "execution_count": null,
      "outputs": [
        {
          "output_type": "display_data",
          "data": {
            "text/plain": [
              "<Figure size 432x288 with 1 Axes>"
            ],
            "image/png": "[encoded data removed]"
          },
          "metadata": {
            "needs_background": "light"
          }
        }
      ]
    },
    {
      "cell_type": "code",
      "source": [
        "print(\"Point P6 belongs to cluster\", model.predict([0.25,0.5]))\n"
      ],
      "metadata": {
        "id": "_7B6Z0IeKBgF",
        "colab": {
          "base_uri": "https://localhost:8080/"
        },
        "outputId": "9980c69b-a640-4b19-9f3b-91234bdd7c37"
      },
      "execution_count": null,
      "outputs": [
        {
          "output_type": "stream",
          "name": "stdout",
          "text": [
            "Point P6 belongs to cluster 0\n"
          ]
        }
      ]
    },
    {
      "cell_type": "code",
      "source": [
        "print(\"Population of cluster2 is\", len(model.classifications[1]))\n"
      ],
      "metadata": {
        "id": "V9_yWV1fKDCB",
        "colab": {
          "base_uri": "https://localhost:8080/"
        },
        "outputId": "afbeab97-a783-4def-da21-03401862dbb9"
      },
      "execution_count": null,
      "outputs": [
        {
          "output_type": "stream",
          "name": "stdout",
          "text": [
            "Population of cluster2 is 3\n"
          ]
        }
      ]
    },
    {
      "cell_type": "code",
      "source": [
        "print(\"Initial values of cluster centroids m1 and m2\")\n",
        "print(\"m1=\",centroids[0])\n",
        "print(\"m2=\",centroids[1])\n",
        "\n",
        "print(\"\\nUpdated value of cluster centroids m1 and m2\")\n",
        "print(\"m1=\",model.centroids[0])\n",
        "print(\"m2=\",model.centroids[1])"
      ],
      "metadata": {
        "id": "UQfBI9kEKE6l",
        "colab": {
          "base_uri": "https://localhost:8080/"
        },
        "outputId": "ea95ed76-35c3-4bfe-ddae-169efe8dee19"
      },
      "execution_count": null,
      "outputs": [
        {
          "output_type": "stream",
          "name": "stdout",
          "text": [
            "Initial values of cluster centroids m1 and m2\n",
            "m1= [0.1 0.6]\n",
            "m2= [0.3 0.2]\n",
            "\n",
            "Updated value of cluster centroids m1 and m2\n",
            "m1= [0.148 0.712]\n",
            "m2= [0.24666667 0.2       ]\n"
          ]
        }
      ]
    }
  ]
}