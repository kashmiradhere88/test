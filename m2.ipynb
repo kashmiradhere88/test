{
  "nbformat": 4,
  "nbformat_minor": 0,
  "metadata": {
    "colab": {
      "name": "m2.ipynb",
      "provenance": [],
      "authorship_tag": "ABX9TyP32o2j4Uyocy+ZHYmsCX7x",
      "include_colab_link": true
    },
    "kernelspec": {
      "name": "python3",
      "display_name": "Python 3"
    },
    "language_info": {
      "name": "python"
    }
  },
  "cells": [
    {
      "cell_type": "markdown",
      "metadata": {
        "id": "view-in-github",
        "colab_type": "text"
      },
      "source": [
        "<a href=\"https://colab.research.google.com/github/kashmiradhere88/test/blob/main/m2.ipynb\" target=\"_parent\"><img src=\"https://colab.research.google.com/assets/colab-badge.svg\" alt=\"Open In Colab\"/></a>"
      ]
    },
    {
      "cell_type": "markdown",
      "source": [
        "#decision tree classifier\n",
        "**output-**\n",
        "prediction,\n",
        "TREE"
      ],
      "metadata": {
        "id": "yQE12R3WNgIn"
      }
    },
    {
      "cell_type": "code",
      "source": [
        "import pandas as pd\n",
        "import numpy as np\n",
        "\n",
        "dataset=pd.read_csv(\"data.csv\")\n",
        "x=dataset.iloc[:,:-1]\n",
        "y=dataset.iloc[:,5]"
      ],
      "metadata": {
        "id": "JDk3QkYXNsHg"
      },
      "execution_count": 2,
      "outputs": []
    },
    {
      "cell_type": "code",
      "source": [
        "from sklearn.preprocessing import LabelEncoder\n",
        "le=LabelEncoder()\n",
        "x=x.apply(le.fit_transform)#x=\n",
        "print(x)\n",
        "print(\"\\n\",y)"
      ],
      "metadata": {
        "colab": {
          "base_uri": "https://localhost:8080/"
        },
        "id": "cDPewB2EN6G_",
        "outputId": "0ccc13f9-f4cc-4ba1-bdd6-c056e27622fb"
      },
      "execution_count": 7,
      "outputs": [
        {
          "output_type": "stream",
          "name": "stdout",
          "text": [
            "    ID  Age  Income  Gender  Marital Status\n",
            "0    0    1       0       1               1\n",
            "1    1    1       0       1               0\n",
            "2    2    0       0       1               1\n",
            "3    3    2       2       1               1\n",
            "4    4    2       1       0               1\n",
            "5    5    2       1       0               0\n",
            "6    6    0       1       0               0\n",
            "7    7    1       2       1               1\n",
            "8    8    1       1       0               0\n",
            "9    9    2       2       0               1\n",
            "10  10    1       2       0               0\n",
            "11  11    0       2       1               0\n",
            "12  12    0       0       0               1\n",
            "13  13    2       2       1               0\n",
            "\n",
            " 0      No\n",
            "1      No\n",
            "2     Yes\n",
            "3     Yes\n",
            "4     Yes\n",
            "5      No\n",
            "6     Yes\n",
            "7      No\n",
            "8     Yes\n",
            "9     Yes\n",
            "10    Yes\n",
            "11    Yes\n",
            "12    Yes\n",
            "13     No\n",
            "Name: Buys, dtype: object\n"
          ]
        }
      ]
    },
    {
      "cell_type": "code",
      "source": [
        "from sklearn.tree import DecisionTreeClassifier\n",
        "regressor=DecisionTreeClassifier()\n",
        "regressor.fit(x.iloc[:,1:5],y)\n",
        "\n",
        "input=np.array([1,0,1,1])\n",
        "print(\"prediction= \",regressor.predict([input]))"
      ],
      "metadata": {
        "colab": {
          "base_uri": "https://localhost:8080/"
        },
        "id": "RZEe6H65OaEv",
        "outputId": "cd369d5d-a75e-4db0-e974-ce1e7892e74c"
      },
      "execution_count": 23,
      "outputs": [
        {
          "output_type": "stream",
          "name": "stdout",
          "text": [
            "prediction=  ['No']\n"
          ]
        },
        {
          "output_type": "stream",
          "name": "stderr",
          "text": [
            "/usr/local/lib/python3.7/dist-packages/sklearn/base.py:451: UserWarning: X does not have valid feature names, but DecisionTreeClassifier was fitted with feature names\n",
            "  \"X does not have valid feature names, but\"\n"
          ]
        }
      ]
    },
    {
      "cell_type": "code",
      "source": [
        "from six import StringIO\n",
        "from sklearn.tree import export_graphviz\n",
        "import pydotplus\n",
        "dot_data=StringIO()\n",
        "export_graphviz(regressor,out_file=dot_data,filled=True,rounded=True,special_characters=True)\n",
        "graph=pydotplus.graph_from_dot_data(dot_data.getvalue()) #.()\n",
        "graph.write_png(\"tree.png\") #!="
      ],
      "metadata": {
        "colab": {
          "base_uri": "https://localhost:8080/"
        },
        "id": "jez_rE_zPoiA",
        "outputId": "9626ee0a-e014-4636-8f6f-9ce5bf0bfc5d"
      },
      "execution_count": 22,
      "outputs": [
        {
          "output_type": "execute_result",
          "data": {
            "text/plain": [
              "True"
            ]
          },
          "metadata": {},
          "execution_count": 22
        }
      ]
    }
  ]
}