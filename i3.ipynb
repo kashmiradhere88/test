{
  "nbformat": 4,
  "nbformat_minor": 0,
  "metadata": {
    "colab": {
      "name": "i3.ipynb",
      "provenance": [],
      "authorship_tag": "ABX9TyM+j6D2VQ4cbDwCdUKyDWB4",
      "include_colab_link": true
    },
    "kernelspec": {
      "name": "python3",
      "display_name": "Python 3"
    },
    "language_info": {
      "name": "python"
    }
  },
  "cells": [
    {
      "cell_type": "markdown",
      "metadata": {
        "id": "view-in-github",
        "colab_type": "text"
      },
      "source": [
        "<a href=\"https://colab.research.google.com/github/kashmiradhere88/test/blob/main/i3.ipynb\" target=\"_parent\"><img src=\"https://colab.research.google.com/assets/colab-badge.svg\" alt=\"Open In Colab\"/></a>"
      ]
    },
    {
      "cell_type": "code",
      "execution_count": 23,
      "metadata": {
        "id": "UHAzbgmhAXaS",
        "colab": {
          "base_uri": "https://localhost:8080/"
        },
        "outputId": "408714d1-f8e3-4334-943a-9510503900f2"
      },
      "outputs": [
        {
          "output_type": "stream",
          "name": "stdout",
          "text": [
            "-----publicly shared variables-----\n",
            "enter a prime number 7\n",
            "enter base 5\n",
            "alice shared over public channel  3\n",
            "bob shared over public channel  6\n",
            "-----privately computed valued-----\n",
            "alice computed  6\n",
            "bob computed  6\n",
            "Both agree upon further communication\n"
          ]
        }
      ],
      "source": [
        "def isprime(num):\n",
        "    if num> 1:  \n",
        "        for n in range(2,num):  \n",
        "            if (num % n) == 0:\n",
        "                print(\"not prime\")  \n",
        "                return\n",
        "        DHA()\n",
        "    else:\n",
        "        print(\"not prime\")\n",
        "\n",
        "def DHA():\n",
        "  g=int(input(\"enter base \"))\n",
        "  A=g**alicesecret%p\n",
        "  B=g**bobsecret%p\n",
        "  print(\"alice shared over public channel \",A)\n",
        "  print(\"bob shared over public channel \",B)\n",
        "\n",
        "  Ax=B**alicesecret%p\n",
        "  Bx=A**bobsecret%p\n",
        "  print(\"-----privately computed valued-----\")\n",
        "  print(\"alice computed \",Ax)\n",
        "  print(\"bob computed \",Bx)\n",
        "  if Ax==Bx:\n",
        "    print(\"Both agree upon further communication\")\n",
        "\n",
        "alicesecret=5\n",
        "bobsecret=9\n",
        "print(\"-----publicly shared variables-----\")\n",
        "p=int(input(\"enter a prime number \"))\n",
        "isprime(p)\n",
        "\n",
        "\n",
        "\n"
      ]
    }
  ]
}