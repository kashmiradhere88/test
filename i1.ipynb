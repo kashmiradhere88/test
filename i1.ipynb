{
  "nbformat": 4,
  "nbformat_minor": 0,
  "metadata": {
    "colab": {
      "name": "i1.ipynb",
      "provenance": [],
      "authorship_tag": "ABX9TyNuYlyW5vC3Lbz3DxI8QKw3",
      "include_colab_link": true
    },
    "kernelspec": {
      "name": "python3",
      "display_name": "Python 3"
    },
    "language_info": {
      "name": "python"
    }
  },
  "cells": [
    {
      "cell_type": "markdown",
      "metadata": {
        "id": "view-in-github",
        "colab_type": "text"
      },
      "source": [
        "<a href=\"https://colab.research.google.com/github/kashmiradhere88/test/blob/main/i1.ipynb\" target=\"_parent\"><img src=\"https://colab.research.google.com/assets/colab-badge.svg\" alt=\"Open In Colab\"/></a>"
      ]
    },
    {
      "cell_type": "code",
      "execution_count": 1,
      "metadata": {
        "id": "_Dous9ad6BME"
      },
      "outputs": [],
      "source": [
        "def apply_table(inp,table):\n",
        "  res=\"\"\n",
        "  for i in table:\n",
        "    res+=inp[i-1]\n",
        "  return res\n"
      ]
    },
    {
      "cell_type": "code",
      "source": [
        "def left_shift(data):\n",
        "  return data[1:]+data[0]\n"
      ],
      "metadata": {
        "id": "U9fEISn5AzT1"
      },
      "execution_count": 2,
      "outputs": []
    },
    {
      "cell_type": "code",
      "source": [
        "def XOR(a,b):\n",
        "  res=\"\"\n",
        "  for i in range(len(a)):\n",
        "    if a[i]==b[i]:\n",
        "      res+=\"0\"\n",
        "    else:\n",
        "      res+=\"1\"\n",
        "  return res"
      ],
      "metadata": {
        "id": "AQwWbfN4A8Fr"
      },
      "execution_count": 3,
      "outputs": []
    },
    {
      "cell_type": "code",
      "source": [
        "def apply_sbox(s,data):\n",
        "  row=int(\"0b\"+data[0]+data[-1],2)\n",
        "  col=int(\"0b\"+data[1:3],2)\n",
        "  return bin(s[row][col])[2:]"
      ],
      "metadata": {
        "id": "y9psCJSJBME4"
      },
      "execution_count": 4,
      "outputs": []
    },
    {
      "cell_type": "code",
      "source": [
        "def function(expansion,s0,s1,key,message):\n",
        "  left=message[:4]\n",
        "  right=message[4:]\n",
        "  temp=apply_table(right,expansion)\n",
        "  temp=XOR(temp,key)\n",
        "  l=temp[:4]\n",
        "  r=temp[4:]\n",
        "  l1=apply_sbox(s0,l)\n",
        "  l2=apply_sbox(s1,r)\n",
        "  temp=apply_table(l1+l2,p4_table)\n",
        "  temp=XOR(temp,left)\n",
        "  return temp+right\n",
        " "
      ],
      "metadata": {
        "id": "mYS-EdblBg9h"
      },
      "execution_count": 14,
      "outputs": []
    },
    {
      "cell_type": "code",
      "source": [
        "if __name__==\"__main__\":\n",
        "  key=input(\"Enter 10 bit key\")\n",
        "  message=input(\"enter 8 bit message\")\n",
        "\n",
        "  p8_table = [6, 3, 7, 4, 8, 5, 10, 9]\n",
        "  p10_table = [3, 5, 2, 7, 4, 10, 1, 9, 8, 6]\n",
        "  p4_table = [2, 4, 3, 1]\n",
        "  IP = [2, 6, 3, 1, 4, 8, 5, 7]\n",
        "  IP_inv = [4, 1, 3, 5, 7, 2, 8, 6]\n",
        "  expansion = [4, 1, 2, 3, 2, 3, 4, 1]\n",
        "  s0 = [[1, 0, 3, 2], [3, 2, 1, 0], [0, 2, 1, 3], [3, 1, 3, 2]]\n",
        "  s1 = [[0, 1, 2, 3], [2, 0, 1, 3], [3, 0, 1, 0], [2, 1, 0, 3]]"
      ],
      "metadata": {
        "colab": {
          "base_uri": "https://localhost:8080/"
        },
        "id": "MhI_mZDrCyKk",
        "outputId": "f1e41dc3-297e-41c0-a479-e1a8eb0d67fd"
      },
      "execution_count": 7,
      "outputs": [
        {
          "name": "stdout",
          "output_type": "stream",
          "text": [
            "Enter 10 bit key1010000010\n",
            "enter 8 bit message10010111\n"
          ]
        }
      ]
    },
    {
      "cell_type": "markdown",
      "source": [
        "**key generation**"
      ],
      "metadata": {
        "id": "aZfUAQXrDSuK"
      }
    },
    {
      "cell_type": "code",
      "source": [
        "temp=apply_table(key,p10_table) #key\n",
        "left=temp[:5]\n",
        "right=temp[5:]\n",
        "left=left_shift(left)\n",
        "right=left_shift(right)\n",
        "key1=apply_table(left+right,p8_table)\n",
        "left=left_shift(left)\n",
        "right=left_shift(right)\n",
        "left=left_shift(left)\n",
        "right=left_shift(right)\n",
        "key2=apply_table(left+right,p8_table)\n",
        "print(\"key1=\",key1)\n",
        "print(\"key2=\",key2)\n"
      ],
      "metadata": {
        "colab": {
          "base_uri": "https://localhost:8080/"
        },
        "id": "LZe5etjkDUn1",
        "outputId": "ed51e67c-f704-4c69-8d7a-7e8f26179e6e"
      },
      "execution_count": 9,
      "outputs": [
        {
          "output_type": "stream",
          "name": "stdout",
          "text": [
            "key1= 10100100\n",
            "key2= 01000011\n"
          ]
        }
      ]
    },
    {
      "cell_type": "markdown",
      "source": [
        "**cipher text generation**\n"
      ],
      "metadata": {
        "id": "15R_0C6uENl8"
      }
    },
    {
      "cell_type": "code",
      "source": [
        "temp=apply_table(message,IP)\n",
        "temp=function(expansion,s0,s1,key1,temp)\n",
        "temp=temp[4:]+temp[:4]\n",
        "temp=function(expansion,s0,s1,key2,temp)\n",
        "CT=apply_table(temp,IP_inv)\n",
        "print(\"Cipher text generated is=\",CT)"
      ],
      "metadata": {
        "colab": {
          "base_uri": "https://localhost:8080/"
        },
        "id": "2FE-3x-CEPf5",
        "outputId": "3dbe41df-d191-45d2-e773-060680b28ee8"
      },
      "execution_count": 15,
      "outputs": [
        {
          "output_type": "stream",
          "name": "stdout",
          "text": [
            "Cipher text generated is= 00111000\n"
          ]
        }
      ]
    },
    {
      "cell_type": "markdown",
      "source": [
        "**decrytped plain text**"
      ],
      "metadata": {
        "id": "wtlumnquE5ST"
      }
    },
    {
      "cell_type": "code",
      "source": [
        "temp=apply_table(CT,IP)\n",
        "temp=function(expansion,s0,s1,key2,temp)\n",
        "temp=temp[4:]+temp[:4]\n",
        "temp=function(expansion,s0,s1,key1,temp)\n",
        "PT=apply_table(temp,IP_inv)\n",
        "print(\"Cipher text generated is=\",PT)"
      ],
      "metadata": {
        "colab": {
          "base_uri": "https://localhost:8080/"
        },
        "id": "u-kIIueME7Od",
        "outputId": "35b5fa03-3854-4f48-fb02-66f683da07b4"
      },
      "execution_count": 16,
      "outputs": [
        {
          "output_type": "stream",
          "name": "stdout",
          "text": [
            "Cipher text generated is= 10010111\n"
          ]
        }
      ]
    }
  ]
}