{
  "nbformat": 4,
  "nbformat_minor": 0,
  "metadata": {
    "colab": {
      "name": "KMeans.ipynb",
      "provenance": []
    },
    "kernelspec": {
      "name": "python3",
      "display_name": "Python 3"
    },
    "language_info": {
      "name": "python"
    }
  },
  "cells": [
    {
      "cell_type": "code",
      "execution_count": null,
      "metadata": {
        "id": "MPBwyOW5cCCC"
      },
      "outputs": [],
      "source": [
        "import pandas as pd\n",
        "import numpy as np\n",
        "import matplotlib.pyplot as plt"
      ]
    },
    {
      "cell_type": "code",
      "source": [
        "x = [[0.1,0.6],[0.15,0.71],[0.08,0.9],[0.16,0.85],[0.2,0.3],[0.25,0.5],[0.24,0.1],[0.3,0.2]]"
      ],
      "metadata": {
        "id": "j8hnac5AcM9_"
      },
      "execution_count": null,
      "outputs": []
    },
    {
      "cell_type": "code",
      "source": [
        "centers = np.array([[0.1,0.6],[0.3,0.2]])\n",
        "print(\"Initial Centroids: \",centers)"
      ],
      "metadata": {
        "colab": {
          "base_uri": "https://localhost:8080/"
        },
        "id": "RJvGDmWwcmtr",
        "outputId": "a24582c6-bad0-487b-de9e-8c5629401ab1"
      },
      "execution_count": null,
      "outputs": [
        {
          "output_type": "stream",
          "name": "stdout",
          "text": [
            "Initial Centroids:  [[0.1 0.6]\n",
            " [0.3 0.2]]\n"
          ]
        }
      ]
    },
    {
      "cell_type": "code",
      "source": [
        "from sklearn.cluster import KMeans\n",
        "model = KMeans(n_clusters=2,init=centers,n_init=1)\n",
        "model.fit(x)\n",
        "print(\"Labels: \",model.labels_)"
      ],
      "metadata": {
        "colab": {
          "base_uri": "https://localhost:8080/"
        },
        "id": "JKiA-MmGdJgz",
        "outputId": "87813e2f-1b6f-4ea3-ffe7-14d3baba92af"
      },
      "execution_count": null,
      "outputs": [
        {
          "output_type": "stream",
          "name": "stdout",
          "text": [
            "Labels:  [0 0 0 0 1 0 1 1]\n"
          ]
        }
      ]
    },
    {
      "cell_type": "code",
      "source": [
        "print(\"P6 belongs to cluster: \",model.labels_[5])\n",
        "print(\"No of population around cluster 2: \",np.count_nonzero(model.labels_==1))\n",
        "print (\"New centroids: \",model.cluster_centers_)"
      ],
      "metadata": {
        "colab": {
          "base_uri": "https://localhost:8080/"
        },
        "id": "D23sR1Obd0VX",
        "outputId": "591033af-8bdb-4003-a487-f616679e5d69"
      },
      "execution_count": null,
      "outputs": [
        {
          "output_type": "stream",
          "name": "stdout",
          "text": [
            "P6 belongs to cluster:  0\n",
            "No of population around cluster 2:  3\n",
            "New centroids:  [[0.148      0.712     ]\n",
            " [0.24666667 0.2       ]]\n"
          ]
        }
      ]
    }
  ]
}